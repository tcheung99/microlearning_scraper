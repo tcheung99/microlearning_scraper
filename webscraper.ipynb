{
 "cells": [
  {
   "cell_type": "code",
   "execution_count": 65,
   "metadata": {
    "scrolled": true
   },
   "outputs": [],
   "source": [
    "from selenium import webdriver\n",
    "from bs4 import BeautifulSoup\n",
    "import pandas as pd\n",
    "\n",
    "# pd.set_option('display.max_rows', 500)\n",
    "# pd.set_option('display.max_columns', 500)\n",
    "# pd.set_option('display.width', 1000)"
   ]
  },
  {
   "cell_type": "code",
   "execution_count": 66,
   "metadata": {},
   "outputs": [],
   "source": [
    "#C:\\Users\\trudi\\Downloads\\chromedriver_win32\n",
    "#driver = webdriver.Chrome(executable_path='C:/Users/trudi/Downloads/chromedriver_win32.exe')\n",
    "\n",
    "#https://www.reddit.com/r/learnpython/comments/3axumo/scraping_multiple_websites_with_beautifulsoup4/\n",
    "\n",
    "driver = webdriver.Chrome(executable_path=r'C:/Users/trudi/chromedriver')\n",
    "# url: https://techcrunch.com/\n",
    "driver.get(\"https://techcrunch.com/\")\n"
   ]
  },
  {
   "cell_type": "code",
   "execution_count": 67,
   "metadata": {},
   "outputs": [
    {
     "name": "stdout",
     "output_type": "stream",
     "text": [
      "1\n",
      "wut\n",
      "<class 'bs4.element.Tag'>\n",
      "3\n",
      "yo\n",
      "<class 'bs4.element.Tag'>\n",
      "5\n",
      "yo\n",
      "<class 'bs4.element.Tag'>\n",
      "7\n",
      "yo\n",
      "<class 'bs4.element.Tag'>\n",
      "['Why it might have been time for new leadership at SAP', 'Porsche has a new, cheaper version of the all-electric Taycan', 'Foodvisor automatically tracks what you eat using deep learning', 'Friday deadline alert: Apply to TC Top Picks @ Disrupt Berlin 2019', 'Opendoor appoints CFO, CPO', 'Uber lays off another ~350 across Eats, self-driving and other departments', 'Founder’s guide to the pre-IPO secondary market', 'Daily Crunch: Facebook has a weak stance on political ads', 'Shipping giant Pitney Bowes hit by ransomware', 'Disney+ tweets all the movies and shows coming to its streaming service', 'Google updates its Titan security keys with USB-C', 'India’s Reliance Jio unveils video call assistant to help businesses automate customer support', 'UK biotech startup Mogrify injects $16M to get novel cell therapies to market soon', 'Samsung opens Android 10 One UI beta ahead of final launch', 'Reddit now lets iOS users share to Snapchat', 'DoorDash opens a shared kitchen in Redwood City', 'Pelion Venture Partners adds Jeff Kearl as a managing director, opens Southern California presence', 'Thoma Bravo makes $3.9 billion offer to acquire security firm Sophos', 'Opendoor appoints CFO, CPO', 'State-run IRCTC delivers India’s best trading debut in 2 years', 'Foodvisor automatically tracks what you eat using deep learning', 'Friday deadline alert: Apply to TC Top Picks @ Disrupt Berlin 2019', 'Porsche has a new, cheaper version of the all-electric Taycan', 'Fortnite’s black hole stunt is the kind of alpha energy we’re here for', 'Facebook should ban campaign ads. End the lies.']\n",
      "25\n"
     ]
    }
   ],
   "source": [
    "titles = [] \n",
    "descs = []\n",
    "\n",
    "content = driver.page_source \n",
    "soup = BeautifulSoup(content)\n",
    "\n",
    "#info from \n",
    "#first arg is name, finds all <a> tags \n",
    "# attrs is a dict that acts like keyword args \n",
    "# for a in soup.findAll('a',href=True, attrs = {'class':'post-block__title__link'}):\n",
    "#     #for a in soup.findAll(['a','p'],href=True, attrs = )\n",
    "#     title = a.find('div', attrs = {'class': 'post-block__title__link'})\n",
    "#     #descs = a.find('div', attrs = {'class': 'post-block__content'})\n",
    "#     titles.append(title.text)\n",
    "#     #descs.append(descs.text)\n",
    "\n",
    "selectors = {\n",
    "    \"https://techcrunch.com/\" : {\n",
    "        1 : {\"class\" : \"feature-island-main-block fi-main-block--unread\"},\n",
    "        2 : {\"class\" : \"fi-main-block__title\"},\n",
    "        5 : {\"class\" : \"river river--homepage\"},\n",
    "        6 : {\"class\" : \"post-block post-block--image post-block--unread\"},\n",
    "        7 : {\"class\" : \"river river--homepage\"},\n",
    "        8 : {\"class\" : \"post-block post-block--featured post-block--unread\"},\n",
    "        3 : {\"class\" : \"mini-view\"},\n",
    "        4 : {\"class\" : \"mini-view__item mini-item--unread\"}\n",
    "    },\n",
    "    \"https://news.ycombinator.com/\" : {\n",
    "        10 : {\"class\" : \"title\"},\n",
    "        9 : {\"class\" : \"athing\"}\n",
    "    }\n",
    "    \n",
    "}\n",
    "\n",
    "# page = soup.find(class_=\"feature-island-main-block fi-main-block--unread\")\n",
    "# data = soup.findAll(class_=\"fi-main-block__title\")\n",
    "# print(len(data))\n",
    "# for page in data:\n",
    "#     title = page.find(\"a\",{\"class\":\"post-block__title__link\"}).text\n",
    "#     titles.append(title)\n",
    "# print(selectors)\n",
    "\n",
    "page_f = [None]\n",
    "data_f = [None]\n",
    "\n",
    "for i in range(1,9,2):\n",
    "    print(i)\n",
    "    if (i!=1):\n",
    "        page = (soup.find(class_= selectors[\"https://techcrunch.com/\"][i][\"class\"]))\n",
    "        data = (soup.findAll(class_=selectors[\"https://techcrunch.com/\"][i+1][\"class\"]))\n",
    "        page_f.extend(page)   \n",
    "        data_f.extend(data)  \n",
    "        print(\"yo\")\n",
    "        print(type(page_f))\n",
    "    else:\n",
    "        page = (soup.find(class_= selectors[\"https://techcrunch.com/\"][i][\"class\"]))\n",
    "        data = (soup.findAll(class_=selectors[\"https://techcrunch.com/\"][i+1][\"class\"]))\n",
    "        page_f = page\n",
    "        data_f = data\n",
    "        print(\"wut\")\n",
    "        print(type(page_f))\n",
    "\n",
    "\n",
    "for page_f in data_f:\n",
    "#     title = page_f.find(\"a\",{\"class\":\"post-block__title__link\"}).text\n",
    "    title = page_f.find(\"a\", href=True).text\n",
    "    titles.append(title)\n",
    "        \n",
    "    \n",
    "print(titles)\n",
    "print(len(titles))\n",
    "#print(soup.get_text())"
   ]
  },
  {
   "cell_type": "code",
   "execution_count": 85,
   "metadata": {},
   "outputs": [
    {
     "name": "stdout",
     "output_type": "stream",
     "text": [
      "['Can You Give Yourself a Panic Attack?', \"San Francisco Is Getting Sick of All Your Dumbass 'Disruption'\"]\n"
     ]
    }
   ],
   "source": [
    "# titles = [] \n",
    "# descs = []\n",
    "driver.get(\"https://gizmodo.com/\")\n",
    "content = driver.page_source \n",
    "soup = BeautifulSoup(content)\n",
    "# print(soup.prettify())\n",
    "# selectors = {\"hackernews\" : \"https://news.ycombinator.com/\" }: {\n",
    "#         10 : {\"class\" : \"title\"},\n",
    "#         9 : {\"class\" : \"athing\"}\n",
    "# }\n",
    "    \n",
    "# page = soup.find(class_=\"feature-island-main-block fi-main-block--unread\")\n",
    "# data = soup.findAll(class_=\"fi-main-block__title\")\n",
    "\n",
    "item branded-item branded-item--earther rlhps0-0 kQEtSU\n",
    "page = (soup.find(class_=\"sc-1b65c8p-5 jOgcgy\"))\n",
    "data = (soup.findAll(class_=\"item branded-item branded-item--gizmodo rlhps0-0 kQEtSU\"))\n",
    "# print(data)\n",
    "titles = []\n",
    "        \n",
    "for page in data:\n",
    "#     title = page.find(\"a\",{\"class\":\"sc-1vk1s7l-1 dPODWC\"})\n",
    "    title = page.find('h5').text\n",
    "    \n",
    "#     title = page.find(\"a\", href=True).text\n",
    "    titles.append(title)\n",
    "    \n",
    "print(titles)"
   ]
  },
  {
   "cell_type": "code",
   "execution_count": null,
   "metadata": {},
   "outputs": [],
   "source": [
    "df = pd.DataFrame({'Title':titles}) \n",
    "with pd.option_context('display.max_rows', None, 'display.max_columns', None):  # more options can be specified also\n",
    "    print(df)"
   ]
  },
  {
   "cell_type": "code",
   "execution_count": null,
   "metadata": {},
   "outputs": [],
   "source": [
    "#df[\"relevant\"] = df.astype(str).sum(axis=1).str.contains(\"Libra\" or \"VC\")\n",
    "\n",
    "#feature to add for later: user enters specific keywords \n",
    "keywords = 'Facebook Google Microsoft Apple startup Linkedin'\n",
    "\n",
    "#case = False for case insensitivity \n",
    "df[\"relevant\"] = df.astype(str).sum(axis=1).str.contains(\"|\".join(keywords.split(\" \")),case = False)\n",
    "# print(df)"
   ]
  },
  {
   "cell_type": "code",
   "execution_count": null,
   "metadata": {},
   "outputs": [],
   "source": [
    "df = df[df.relevant != False] #dropping all false rows \n",
    "print(df)"
   ]
  },
  {
   "cell_type": "code",
   "execution_count": null,
   "metadata": {},
   "outputs": [],
   "source": []
  }
 ],
 "metadata": {
  "kernelspec": {
   "display_name": "Python 3",
   "language": "python",
   "name": "python3"
  },
  "language_info": {
   "codemirror_mode": {
    "name": "ipython",
    "version": 3
   },
   "file_extension": ".py",
   "mimetype": "text/x-python",
   "name": "python",
   "nbconvert_exporter": "python",
   "pygments_lexer": "ipython3",
   "version": "3.7.4"
  }
 },
 "nbformat": 4,
 "nbformat_minor": 2
}
