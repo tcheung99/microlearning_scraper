{
 "cells": [
  {
   "cell_type": "code",
   "execution_count": 44,
   "metadata": {
    "scrolled": true
   },
   "outputs": [],
   "source": [
    "from selenium import webdriver\n",
    "from bs4 import BeautifulSoup\n",
    "import pandas as pd\n",
    "\n",
    "# pd.set_option('display.max_rows', 500)\n",
    "# pd.set_option('display.max_columns', 500)\n",
    "# pd.set_option('display.width', 1000)"
   ]
  },
  {
   "cell_type": "code",
   "execution_count": 45,
   "metadata": {},
   "outputs": [],
   "source": [
    "#C:\\Users\\trudi\\Downloads\\chromedriver_win32\n",
    "#driver = webdriver.Chrome(executable_path='C:/Users/trudi/Downloads/chromedriver_win32.exe')\n",
    "\n",
    "#https://www.reddit.com/r/learnpython/comments/3axumo/scraping_multiple_websites_with_beautifulsoup4/\n",
    "\n",
    "driver = webdriver.Chrome(executable_path=r'C:/Users/trudi/chromedriver')\n",
    "# url: https://techcrunch.com/\n",
    "driver.get(\"https://techcrunch.com/\")\n"
   ]
  },
  {
   "cell_type": "code",
   "execution_count": 48,
   "metadata": {},
   "outputs": [
    {
     "ename": "TypeError",
     "evalue": "unhashable type: 'dict'",
     "output_type": "error",
     "traceback": [
      "\u001b[1;31m---------------------------------------------------------------------------\u001b[0m",
      "\u001b[1;31mTypeError\u001b[0m                                 Traceback (most recent call last)",
      "\u001b[1;32m<ipython-input-48-40fb9bb3816e>\u001b[0m in \u001b[0;36m<module>\u001b[1;34m\u001b[0m\n\u001b[0;32m     24\u001b[0m         \u001b[1;36m8\u001b[0m \u001b[1;33m:\u001b[0m \u001b[1;33m{\u001b[0m\u001b[1;34m\"class\"\u001b[0m \u001b[1;33m:\u001b[0m \u001b[1;34m\"post-block post-block--featured post-block--unread\"\u001b[0m\u001b[1;33m}\u001b[0m\u001b[1;33m,\u001b[0m\u001b[1;33m\u001b[0m\u001b[1;33m\u001b[0m\u001b[0m\n\u001b[0;32m     25\u001b[0m         \u001b[1;36m3\u001b[0m \u001b[1;33m:\u001b[0m \u001b[1;33m{\u001b[0m\u001b[1;34m\"class\"\u001b[0m \u001b[1;33m:\u001b[0m \u001b[1;34m\"mini-view\"\u001b[0m\u001b[1;33m}\u001b[0m\u001b[1;33m,\u001b[0m\u001b[1;33m\u001b[0m\u001b[1;33m\u001b[0m\u001b[0m\n\u001b[1;32m---> 26\u001b[1;33m         \u001b[1;36m4\u001b[0m \u001b[1;33m:\u001b[0m \u001b[1;33m{\u001b[0m\u001b[1;34m\"class\"\u001b[0m \u001b[1;33m:\u001b[0m \u001b[1;34m\"mini-view__item mini-item--unread\"\u001b[0m\u001b[1;33m}\u001b[0m\u001b[1;33m\u001b[0m\u001b[1;33m\u001b[0m\u001b[0m\n\u001b[0m\u001b[0;32m     27\u001b[0m     }   \n\u001b[0;32m     28\u001b[0m }\n",
      "\u001b[1;31mTypeError\u001b[0m: unhashable type: 'dict'"
     ]
    }
   ],
   "source": [
    "titles = [] \n",
    "descs = []\n",
    "\n",
    "content = driver.page_source \n",
    "soup = BeautifulSoup(content)\n",
    "\n",
    "#info from \n",
    "#first arg is name, finds all <a> tags \n",
    "# attrs is a dict that acts like keyword args \n",
    "# for a in soup.findAll('a',href=True, attrs = {'class':'post-block__title__link'}):\n",
    "#     #for a in soup.findAll(['a','p'],href=True, attrs = )\n",
    "#     title = a.find('div', attrs = {'class': 'post-block__title__link'})\n",
    "#     #descs = a.find('div', attrs = {'class': 'post-block__content'})\n",
    "#     titles.append(title.text)\n",
    "#     #descs.append(descs.text)\n",
    "\n",
    "selectors = {\n",
    "    {\"techcrunch\" : \"https://techcrunch.com/\"} : {\n",
    "        1 : {\"class\" : \"feature-island-main-block fi-main-block--unread\"},\n",
    "        2 : {\"class\" : \"fi-main-block__title\"},\n",
    "        5 : {\"class\" : \"river river--homepage\"},\n",
    "        6 : {\"class\" : \"post-block post-block--image post-block--unread\"},\n",
    "        7 : {\"class\" : \"river river--homepage\"},\n",
    "        8 : {\"class\" : \"post-block post-block--featured post-block--unread\"},\n",
    "        3 : {\"class\" : \"mini-view\"},\n",
    "        4 : {\"class\" : \"mini-view__item mini-item--unread\"}\n",
    "    }   \n",
    "}\n",
    "\n",
    "# page = soup.find(class_=\"feature-island-main-block fi-main-block--unread\")\n",
    "# data = soup.findAll(class_=\"fi-main-block__title\")\n",
    "# print(len(data))\n",
    "# for page in data:\n",
    "#     title = page.find(\"a\",{\"class\":\"post-block__title__link\"}).text\n",
    "#     titles.append(title)\n",
    "# print(selectors)\n",
    "\n",
    "page_f = [None]\n",
    "data_f = [None]\n",
    "\n",
    "for i in range(1,9,2):\n",
    "    print(i)\n",
    "    if (i!=1):\n",
    "        page = (soup.find(class_= selectors[\"techcrunch\"][i][\"class\"]))\n",
    "        data = (soup.findAll(class_=selectors[\"techcrunch\"][i+1][\"class\"]))\n",
    "        page_f.extend(page)   \n",
    "        data_f.extend(data)  \n",
    "        print(\"yo\")\n",
    "        print(type(page_f))\n",
    "    else:\n",
    "        page = (soup.find(class_= selectors[\"techcrunch\"][i][\"class\"]))\n",
    "        data = (soup.findAll(class_=selectors[\"techcrunch\"][i+1][\"class\"]))\n",
    "        page_f = page\n",
    "        data_f = data\n",
    "        print(\"wut\")\n",
    "        print(type(page_f))\n",
    "\n",
    "\n",
    "for page_f in data_f:\n",
    "#     title = page_f.find(\"a\",{\"class\":\"post-block__title__link\"}).text\n",
    "    title = page_f.find(\"a\", href=True).text\n",
    "    titles.append(title)\n",
    "        \n",
    "    \n",
    "print(titles)\n",
    "print(len(titles))\n",
    "#print(soup.get_text())"
   ]
  },
  {
   "cell_type": "code",
   "execution_count": null,
   "metadata": {},
   "outputs": [],
   "source": [
    "# titles = [] \n",
    "# descs = []\n",
    "driver.get(\"https://news.ycombinator.com/\")\n",
    "content = driver.page_source \n",
    "soup = BeautifulSoup(content)\n",
    "\n",
    "selectors = {\"hackernews\" : \"https://news.ycombinator.com/\" }: {\n",
    "        10 : {\"class\" : \"title\"},\n",
    "        9 : {\"class\" : \"athing\"}\n",
    "}\n",
    "    \n",
    "page = (soup.find(class_= selectors[\"hackernews\"][9][\"title\"])\n",
    "data = (soup.findAll(class_=selectors[\"hackernews\"][10])[\"title\"])\n",
    "\n",
    "page_f = [None]\n",
    "data_f = [None]\n",
    "        \n",
    "for page_f in data_f:\n",
    "#     title = page_f.find(\"a\",{\"class\":\"post-block__title__link\"}).text\n",
    "    title = page_f.find(\"a\", href=True).text\n",
    "    titles.append(title)\n"
   ]
  },
  {
   "cell_type": "code",
   "execution_count": null,
   "metadata": {},
   "outputs": [],
   "source": [
    "df = pd.DataFrame({'Title':titles}) \n",
    "with pd.option_context('display.max_rows', None, 'display.max_columns', None):  # more options can be specified also\n",
    "    print(df)"
   ]
  },
  {
   "cell_type": "code",
   "execution_count": null,
   "metadata": {},
   "outputs": [],
   "source": [
    "#df[\"relevant\"] = df.astype(str).sum(axis=1).str.contains(\"Libra\" or \"VC\")\n",
    "\n",
    "#feature to add for later: user enters specific keywords \n",
    "keywords = 'Facebook Google Microsoft Apple startup Linkedin'\n",
    "\n",
    "#case = False for case insensitivity \n",
    "df[\"relevant\"] = df.astype(str).sum(axis=1).str.contains(\"|\".join(keywords.split(\" \")),case = False)\n",
    "# print(df)"
   ]
  },
  {
   "cell_type": "code",
   "execution_count": null,
   "metadata": {},
   "outputs": [],
   "source": [
    "df = df[df.relevant != False] #dropping all false rows \n",
    "print(df)"
   ]
  },
  {
   "cell_type": "code",
   "execution_count": null,
   "metadata": {},
   "outputs": [],
   "source": []
  }
 ],
 "metadata": {
  "kernelspec": {
   "display_name": "Python 3",
   "language": "python",
   "name": "python3"
  },
  "language_info": {
   "codemirror_mode": {
    "name": "ipython",
    "version": 3
   },
   "file_extension": ".py",
   "mimetype": "text/x-python",
   "name": "python",
   "nbconvert_exporter": "python",
   "pygments_lexer": "ipython3",
   "version": "3.7.4"
  }
 },
 "nbformat": 4,
 "nbformat_minor": 2
}
