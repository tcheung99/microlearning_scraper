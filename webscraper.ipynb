{
 "cells": [
  {
   "cell_type": "code",
   "execution_count": 70,
   "metadata": {
    "scrolled": true
   },
   "outputs": [],
   "source": [
    "from selenium import webdriver\n",
    "from bs4 import BeautifulSoup\n",
    "import pandas as pd\n",
    "\n",
    "# pd.set_option('display.max_rows', 500)\n",
    "# pd.set_option('display.max_columns', 500)\n",
    "# pd.set_option('display.width', 1000)"
   ]
  },
  {
   "cell_type": "code",
   "execution_count": 71,
   "metadata": {},
   "outputs": [],
   "source": [
    "#C:\\Users\\trudi\\Downloads\\chromedriver_win32\n",
    "#driver = webdriver.Chrome(executable_path='C:/Users/trudi/Downloads/chromedriver_win32.exe')\n",
    "\n",
    "driver = webdriver.Chrome(executable_path=r'C:/Users/trudi/chromedriver')\n",
    "# url: https://techcrunch.com/\n",
    "driver.get(\"https://techcrunch.com/\")"
   ]
  },
  {
   "cell_type": "code",
   "execution_count": 72,
   "metadata": {},
   "outputs": [
    {
     "name": "stdout",
     "output_type": "stream",
     "text": [
      "19\n",
      "['SAP’s Bill McDermott on stepping down as CEO', 'Upgrade, the newest company by Renaud Laplanche, has a new credit card that it swears is good for you', 'Original Content podcast: Malka Older on reviving the clones of ‘Orphan Black’ for Serial Box', 'Bill McDermott steps down as SAP’s CEO', 'Udacity will offer 100,000 free programming classes as part of the ‘Pledge to America’s Workers’', 'NASA Administrator ‘very confident’ SpaceX crew launch could happen in early 2020', 'Elon Musk says that NASA is free to share all SpaceX IP with ‘anyone it wants’', 'Why venture capital firms need culture experts', 'Autonomous trucking startup Einride eyes US market with $25 million in new funding', 'NASA’s new Moon-bound spacesuit is safer, smarter and much more comfortable', 'Apple Arcade’s black box', 'Steam will soon let you play local-only multiplayer games with far off friends', 'Rocket Lab’s new 5-year FAA license will help it streamline its rocket launch process', 'Your mass consumer data collection is destroying consumer trust', 'BoxGroup raises its first externally backed fund to invest in seed-stage startups', 'Verily, Alphabet’s other money-making, non-Google business, partners with Color on genetic analysis', 'Daily Crunch: Apple pulls Hong Kong app', 'To beat Amazon Go,  Standard Cognition buys cashierless DeepMagic', 'Flaw in Cyberoam firewalls exposed corporate networks to hackers']\n"
     ]
    }
   ],
   "source": [
    "titles = [] \n",
    "descs = []\n",
    "\n",
    "content = driver.page_source \n",
    "soup = BeautifulSoup(content)\n",
    "\n",
    "#info from \n",
    "#first arg is name, finds all <a> tags \n",
    "# attrs is a dict that acts like keyword args \n",
    "# for a in soup.findAll('a',href=True, attrs = {'class':'post-block__title__link'}):\n",
    "#     #for a in soup.findAll(['a','p'],href=True, attrs = )\n",
    "#     title = a.find('div', attrs = {'class': 'post-block__title__link'})\n",
    "#     #descs = a.find('div', attrs = {'class': 'post-block__content'})\n",
    "#     titles.append(title.text)\n",
    "#     #descs.append(descs.text)\n",
    "page = soup.find(class_=\"river river--homepage\")\n",
    "data = soup.findAll(class_=\"post-block post-block--image post-block--unread\")\n",
    "print(len(data))\n",
    "\n",
    "for page in data:\n",
    "    title = page.find(\"a\",{\"class\":\"post-block__title__link\"}).text\n",
    "    titles.append(title)\n",
    "\n",
    "print(titles)\n"
   ]
  },
  {
   "cell_type": "code",
   "execution_count": 73,
   "metadata": {},
   "outputs": [
    {
     "name": "stdout",
     "output_type": "stream",
     "text": [
      "                                                Title\n",
      "0        SAP’s Bill McDermott on stepping down as CEO\n",
      "1   Upgrade, the newest company by Renaud Laplanch...\n",
      "2   Original Content podcast: Malka Older on reviv...\n",
      "3              Bill McDermott steps down as SAP’s CEO\n",
      "4   Udacity will offer 100,000 free programming cl...\n",
      "5   NASA Administrator ‘very confident’ SpaceX cre...\n",
      "6   Elon Musk says that NASA is free to share all ...\n",
      "7      Why venture capital firms need culture experts\n",
      "8   Autonomous trucking startup Einride eyes US ma...\n",
      "9   NASA’s new Moon-bound spacesuit is safer, smar...\n",
      "10                           Apple Arcade’s black box\n",
      "11  Steam will soon let you play local-only multip...\n",
      "12  Rocket Lab’s new 5-year FAA license will help ...\n",
      "13  Your mass consumer data collection is destroyi...\n",
      "14  BoxGroup raises its first externally backed fu...\n",
      "15  Verily, Alphabet’s other money-making, non-Goo...\n",
      "16            Daily Crunch: Apple pulls Hong Kong app\n",
      "17  To beat Amazon Go,  Standard Cognition buys ca...\n",
      "18  Flaw in Cyberoam firewalls exposed corporate n...\n"
     ]
    }
   ],
   "source": [
    "df = pd.DataFrame({'Title':titles}) \n",
    "with pd.option_context('display.max_rows', None, 'display.max_columns', None):  # more options can be specified also\n",
    "    print(df)"
   ]
  }
 ],
 "metadata": {
  "kernelspec": {
   "display_name": "Python 3",
   "language": "python",
   "name": "python3"
  },
  "language_info": {
   "codemirror_mode": {
    "name": "ipython",
    "version": 3
   },
   "file_extension": ".py",
   "mimetype": "text/x-python",
   "name": "python",
   "nbconvert_exporter": "python",
   "pygments_lexer": "ipython3",
   "version": "3.7.3"
  }
 },
 "nbformat": 4,
 "nbformat_minor": 2
}
