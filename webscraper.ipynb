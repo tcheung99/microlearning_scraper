{
 "cells": [
  {
   "cell_type": "code",
   "execution_count": 5,
   "metadata": {
    "scrolled": true
   },
   "outputs": [],
   "source": [
    "from selenium import webdriver\n",
    "from bs4 import BeautifulSoup\n",
    "import pandas as pd\n",
    "\n",
    "# pd.set_option('display.max_rows', 500)\n",
    "# pd.set_option('display.max_columns', 500)\n",
    "# pd.set_option('display.width', 1000)"
   ]
  },
  {
   "cell_type": "code",
   "execution_count": 6,
   "metadata": {},
   "outputs": [],
   "source": [
    "#C:\\Users\\trudi\\Downloads\\chromedriver_win32\n",
    "#driver = webdriver.Chrome(executable_path='C:/Users/trudi/Downloads/chromedriver_win32.exe')\n",
    "\n",
    "#https://www.reddit.com/r/learnpython/comments/3axumo/scraping_multiple_websites_with_beautifulsoup4/\n",
    "\n",
    "driver = webdriver.Chrome(executable_path=r'C:/Users/trudi/chromedriver')\n",
    "# url: https://techcrunch.com/\n",
    "driver.get(\"https://techcrunch.com/\")"
   ]
  },
  {
   "cell_type": "code",
   "execution_count": 54,
   "metadata": {},
   "outputs": [
    {
     "name": "stdout",
     "output_type": "stream",
     "text": [
      "1\n",
      "fadsgsefadsbgdasfz\n",
      "<class 'bs4.element.Tag'>\n",
      "3\n",
      "fdasjk\n",
      "<class 'NoneType'>\n",
      "<class 'NoneType'>\n"
     ]
    },
    {
     "ename": "TypeError",
     "evalue": "'NoneType' object is not iterable",
     "output_type": "error",
     "traceback": [
      "\u001b[1;31m---------------------------------------------------------------------------\u001b[0m",
      "\u001b[1;31mTypeError\u001b[0m                                 Traceback (most recent call last)",
      "\u001b[1;32m<ipython-input-54-2dbde8921402>\u001b[0m in \u001b[0;36m<module>\u001b[1;34m\u001b[0m\n\u001b[0;32m     49\u001b[0m \u001b[1;31m# print(len(data))\u001b[0m\u001b[1;33m\u001b[0m\u001b[1;33m\u001b[0m\u001b[1;33m\u001b[0m\u001b[0m\n\u001b[0;32m     50\u001b[0m \u001b[1;33m\u001b[0m\u001b[0m\n\u001b[1;32m---> 51\u001b[1;33m \u001b[1;32mfor\u001b[0m \u001b[0mpage\u001b[0m \u001b[1;32min\u001b[0m \u001b[0mdata\u001b[0m\u001b[1;33m:\u001b[0m\u001b[1;33m\u001b[0m\u001b[1;33m\u001b[0m\u001b[0m\n\u001b[0m\u001b[0;32m     52\u001b[0m     \u001b[0mtitle\u001b[0m \u001b[1;33m=\u001b[0m \u001b[0mpage\u001b[0m\u001b[1;33m.\u001b[0m\u001b[0mfind\u001b[0m\u001b[1;33m(\u001b[0m\u001b[1;34m\"a\"\u001b[0m\u001b[1;33m,\u001b[0m\u001b[1;33m{\u001b[0m\u001b[1;34m\"class\"\u001b[0m\u001b[1;33m:\u001b[0m\u001b[1;34m\"post-block__title__link\"\u001b[0m\u001b[1;33m}\u001b[0m\u001b[1;33m)\u001b[0m\u001b[1;33m.\u001b[0m\u001b[0mtext\u001b[0m\u001b[1;33m\u001b[0m\u001b[1;33m\u001b[0m\u001b[0m\n\u001b[0;32m     53\u001b[0m     \u001b[0mtitles\u001b[0m\u001b[1;33m.\u001b[0m\u001b[0mappend\u001b[0m\u001b[1;33m(\u001b[0m\u001b[0mtitle\u001b[0m\u001b[1;33m)\u001b[0m\u001b[1;33m\u001b[0m\u001b[1;33m\u001b[0m\u001b[0m\n",
      "\u001b[1;31mTypeError\u001b[0m: 'NoneType' object is not iterable"
     ]
    }
   ],
   "source": [
    "titles = [] \n",
    "descs = []\n",
    "\n",
    "content = driver.page_source \n",
    "soup = BeautifulSoup(content)\n",
    "\n",
    "#info from \n",
    "#first arg is name, finds all <a> tags \n",
    "# attrs is a dict that acts like keyword args \n",
    "# for a in soup.findAll('a',href=True, attrs = {'class':'post-block__title__link'}):\n",
    "#     #for a in soup.findAll(['a','p'],href=True, attrs = )\n",
    "#     title = a.find('div', attrs = {'class': 'post-block__title__link'})\n",
    "#     #descs = a.find('div', attrs = {'class': 'post-block__content'})\n",
    "#     titles.append(title.text)\n",
    "#     #descs.append(descs.text)\n",
    "\n",
    "selectors = {\n",
    "    \"https://techcrunch.com/\" : {\n",
    "        1 : {\"class\" : \"feature-island-main-block fi-main-block--unread\"},\n",
    "        2 : {\"class\" : \"fi-main-block__title\"},\n",
    "        3 : {\"class\" : \"river river--homepage\"},\n",
    "        4 : {\"class\" : \"post-block post-block--image post-block--unread\"}\n",
    "    }\n",
    "}\n",
    "\n",
    "# page = soup.find(class_=\"feature-island-main-block fi-main-block--unread\")\n",
    "# data = soup.findAll(class_=\"fi-main-block__title\")\n",
    "# print(len(data))\n",
    "# for page in data:\n",
    "#     title = page.find(\"a\",{\"class\":\"post-block__title__link\"}).text\n",
    "#     titles.append(title)\n",
    "# print(selectors)\n",
    "\n",
    "for i in range(1,5,2):\n",
    "    print(i)\n",
    "    if (i!=1):\n",
    "        page = page.append(soup.find(class_= selectors[\"https://techcrunch.com/\"][i][\"class\"]))\n",
    "        data = data.append(soup.findAll(class_=selectors[\"https://techcrunch.com/\"][i+1][\"class\"]))\n",
    "        print(\"fdasjk\")\n",
    "        print(type(page))\n",
    "    else:\n",
    "        page = (soup.find(class_= selectors[\"https://techcrunch.com/\"][i][\"class\"]))\n",
    "        data = (soup.findAll(class_=selectors[\"https://techcrunch.com/\"][i+1][\"class\"]))\n",
    "        print(\"fadsgsefadsbgdasfz\")\n",
    "        print(type(page))\n",
    "print(type(page))\n",
    "\n",
    "\n",
    "# print(len(data))\n",
    "\n",
    "for page in data:\n",
    "    title = page.find(\"a\",{\"class\":\"post-block__title__link\"}).text\n",
    "    titles.append(title)\n",
    "\n",
    "print(titles)\n",
    "print(len(titles))\n",
    "#print(soup.get_text())"
   ]
  },
  {
   "cell_type": "code",
   "execution_count": 8,
   "metadata": {},
   "outputs": [
    {
     "name": "stdout",
     "output_type": "stream",
     "text": [
      "                                                Title\n",
      "0   AI-based firefighter safety startup Prometeo w...\n",
      "1   Google’s Pixel 4 briefly went up for preorder ...\n",
      "2   Samsung’s Galaxy Watch Active 2 is a solid sma...\n",
      "3   California’s Privacy Act: What you need to kno...\n",
      "4   The Yeti X brings real-time level monitoring t...\n",
      "5   Startups Weekly: YC grad Revel’s plan to conne...\n",
      "6   VC Brad Feld on WeWork, SoftBank, and why vent...\n",
      "7   Pegging Libra to just the $ could soothe regul...\n",
      "8   Amid security concerns, the European Union put...\n",
      "9   Confirmed: Nike has picked up Russell Wilson’s...\n",
      "10  Apple creates its own TV studio, will produce ...\n",
      "11  Cryptocurrency’s bad day continues as the SEC ...\n",
      "12  Why it might have been time for new leadership...\n",
      "13  Alexa now speaks Spanish, including in multi-l...\n",
      "14  EBay, Stripe and Mastercard drop out of Facebo...\n",
      "15  Electric moped startup Revel could expand to T...\n",
      "16  Instacart shoppers are organizing a nationwide...\n"
     ]
    }
   ],
   "source": [
    "df = pd.DataFrame({'Title':titles}) \n",
    "with pd.option_context('display.max_rows', None, 'display.max_columns', None):  # more options can be specified also\n",
    "    print(df)"
   ]
  },
  {
   "cell_type": "code",
   "execution_count": 9,
   "metadata": {},
   "outputs": [
    {
     "name": "stdout",
     "output_type": "stream",
     "text": [
      "                                                Title  relevant\n",
      "0   AI-based firefighter safety startup Prometeo w...      True\n",
      "1   Google’s Pixel 4 briefly went up for preorder ...      True\n",
      "2   Samsung’s Galaxy Watch Active 2 is a solid sma...     False\n",
      "3   California’s Privacy Act: What you need to kno...     False\n",
      "4   The Yeti X brings real-time level monitoring t...     False\n",
      "5   Startups Weekly: YC grad Revel’s plan to conne...      True\n",
      "6   VC Brad Feld on WeWork, SoftBank, and why vent...     False\n",
      "7   Pegging Libra to just the $ could soothe regul...     False\n",
      "8   Amid security concerns, the European Union put...     False\n",
      "9   Confirmed: Nike has picked up Russell Wilson’s...     False\n",
      "10  Apple creates its own TV studio, will produce ...      True\n",
      "11  Cryptocurrency’s bad day continues as the SEC ...     False\n",
      "12  Why it might have been time for new leadership...     False\n",
      "13  Alexa now speaks Spanish, including in multi-l...     False\n",
      "14  EBay, Stripe and Mastercard drop out of Facebo...      True\n",
      "15  Electric moped startup Revel could expand to T...      True\n",
      "16  Instacart shoppers are organizing a nationwide...     False\n"
     ]
    }
   ],
   "source": [
    "#df[\"relevant\"] = df.astype(str).sum(axis=1).str.contains(\"Libra\" or \"VC\")\n",
    "\n",
    "#feature to add for later: user enters specific keywords \n",
    "keywords = 'Facebook Google Microsoft Apple startup'\n",
    "\n",
    "#case = False for case insensitivity \n",
    "df[\"relevant\"] = df.astype(str).sum(axis=1).str.contains(\"|\".join(keywords.split(\" \")),case = False)\n",
    "print(df)"
   ]
  },
  {
   "cell_type": "code",
   "execution_count": 10,
   "metadata": {},
   "outputs": [
    {
     "name": "stdout",
     "output_type": "stream",
     "text": [
      "                                                Title  relevant\n",
      "0   AI-based firefighter safety startup Prometeo w...      True\n",
      "1   Google’s Pixel 4 briefly went up for preorder ...      True\n",
      "5   Startups Weekly: YC grad Revel’s plan to conne...      True\n",
      "10  Apple creates its own TV studio, will produce ...      True\n",
      "14  EBay, Stripe and Mastercard drop out of Facebo...      True\n",
      "15  Electric moped startup Revel could expand to T...      True\n"
     ]
    }
   ],
   "source": [
    "df = df[df.relevant != False] #dropping all false rows \n",
    "print(df)"
   ]
  },
  {
   "cell_type": "code",
   "execution_count": null,
   "metadata": {},
   "outputs": [],
   "source": []
  }
 ],
 "metadata": {
  "kernelspec": {
   "display_name": "Python 3",
   "language": "python",
   "name": "python3"
  },
  "language_info": {
   "codemirror_mode": {
    "name": "ipython",
    "version": 3
   },
   "file_extension": ".py",
   "mimetype": "text/x-python",
   "name": "python",
   "nbconvert_exporter": "python",
   "pygments_lexer": "ipython3",
   "version": "3.7.3"
  }
 },
 "nbformat": 4,
 "nbformat_minor": 2
}
