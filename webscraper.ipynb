{
 "cells": [
  {
   "cell_type": "code",
   "execution_count": 7,
   "metadata": {
    "scrolled": true
   },
   "outputs": [],
   "source": [
    "from selenium import webdriver\n",
    "from bs4 import BeautifulSoup\n",
    "import pandas as pd\n",
    "\n",
    "# pd.set_option('display.max_rows', 500)\n",
    "# pd.set_option('display.max_columns', 500)\n",
    "# pd.set_option('display.width', 1000)"
   ]
  },
  {
   "cell_type": "code",
   "execution_count": 20,
   "metadata": {},
   "outputs": [
    {
     "ename": "TypeError",
     "evalue": "object of type 'NoneType' has no len()",
     "output_type": "error",
     "traceback": [
      "\u001b[1;31m---------------------------------------------------------------------------\u001b[0m",
      "\u001b[1;31mTypeError\u001b[0m                                 Traceback (most recent call last)",
      "\u001b[1;32m<ipython-input-20-04d3ddb3f031>\u001b[0m in \u001b[0;36m<module>\u001b[1;34m\u001b[0m\n\u001b[0;32m     10\u001b[0m \u001b[0mpage\u001b[0m \u001b[1;33m=\u001b[0m \u001b[0msoup\u001b[0m\u001b[1;33m.\u001b[0m\u001b[0mfind\u001b[0m\u001b[1;33m(\u001b[0m\u001b[0mclass_\u001b[0m\u001b[1;33m=\u001b[0m\u001b[1;34m\"feature-island-main-block fi-main-block--unread\"\u001b[0m\u001b[1;33m)\u001b[0m\u001b[1;33m\u001b[0m\u001b[1;33m\u001b[0m\u001b[0m\n\u001b[0;32m     11\u001b[0m \u001b[0mdata\u001b[0m \u001b[1;33m=\u001b[0m \u001b[0msoup\u001b[0m\u001b[1;33m.\u001b[0m\u001b[0mfindAll\u001b[0m\u001b[1;33m(\u001b[0m\u001b[0mclass_\u001b[0m\u001b[1;33m=\u001b[0m\u001b[1;34m\"fi-main-block__title\"\u001b[0m\u001b[1;33m)\u001b[0m\u001b[1;33m\u001b[0m\u001b[1;33m\u001b[0m\u001b[0m\n\u001b[1;32m---> 12\u001b[1;33m \u001b[0mprint\u001b[0m\u001b[1;33m(\u001b[0m\u001b[0mlen\u001b[0m\u001b[1;33m(\u001b[0m\u001b[0mpage\u001b[0m\u001b[1;33m)\u001b[0m\u001b[1;33m)\u001b[0m\u001b[1;33m\u001b[0m\u001b[1;33m\u001b[0m\u001b[0m\n\u001b[0m\u001b[0;32m     13\u001b[0m \u001b[1;33m\u001b[0m\u001b[0m\n\u001b[0;32m     14\u001b[0m \u001b[0mprint\u001b[0m\u001b[1;33m(\u001b[0m\u001b[0mlen\u001b[0m\u001b[1;33m(\u001b[0m\u001b[0mdata\u001b[0m\u001b[1;33m)\u001b[0m\u001b[1;33m)\u001b[0m\u001b[1;33m\u001b[0m\u001b[1;33m\u001b[0m\u001b[0m\n",
      "\u001b[1;31mTypeError\u001b[0m: object of type 'NoneType' has no len()"
     ]
    }
   ],
   "source": [
    "#C:\\Users\\trudi\\Downloads\\chromedriver_win32\n",
    "#driver = webdriver.Chrome(executable_path='C:/Users/trudi/Downloads/chromedriver_win32.exe')\n",
    "\n",
    "#https://www.reddit.com/r/learnpython/comments/3axumo/scraping_multiple_websites_with_beautifulsoup4/\n",
    "\n",
    "driver = webdriver.Chrome(executable_path=r'C:/Users/trudi/chromedriver')\n",
    "# url: https://techcrunch.com/\n",
    "driver.get(\"https://techcrunch.com/\")\n",
    "\n",
    "page = soup.find(class_=\"feature-island-main-block fi-main-block--unread\")\n",
    "data = soup.findAll(class_=\"fi-main-block__title\")\n",
    "print(len(page))\n",
    "\n",
    "print(len(data))\n",
    "for page in data:\n",
    "    title = page.find(\"a\",{\"class\":\"post-block__title__link\"}).text\n",
    "    titles.append(title)\n"
   ]
  },
  {
   "cell_type": "code",
   "execution_count": 18,
   "metadata": {},
   "outputs": [
    {
     "name": "stdout",
     "output_type": "stream",
     "text": [
      "1\n",
      "wut\n",
      "None\n",
      "[]\n",
      "<class 'NoneType'>\n",
      "3\n"
     ]
    },
    {
     "ename": "AttributeError",
     "evalue": "'NoneType' object has no attribute 'extend'",
     "output_type": "error",
     "traceback": [
      "\u001b[1;31m---------------------------------------------------------------------------\u001b[0m",
      "\u001b[1;31mAttributeError\u001b[0m                            Traceback (most recent call last)",
      "\u001b[1;32m<ipython-input-18-6e17c4f879bc>\u001b[0m in \u001b[0;36m<module>\u001b[1;34m\u001b[0m\n\u001b[0;32m     51\u001b[0m         \u001b[0mpage\u001b[0m \u001b[1;33m=\u001b[0m \u001b[1;33m(\u001b[0m\u001b[0msoup\u001b[0m\u001b[1;33m.\u001b[0m\u001b[0mfind\u001b[0m\u001b[1;33m(\u001b[0m\u001b[0mclass_\u001b[0m\u001b[1;33m=\u001b[0m \u001b[0mselectors\u001b[0m\u001b[1;33m[\u001b[0m\u001b[1;34m\"https://techcrunch.com/\"\u001b[0m\u001b[1;33m]\u001b[0m\u001b[1;33m[\u001b[0m\u001b[0mi\u001b[0m\u001b[1;33m]\u001b[0m\u001b[1;33m[\u001b[0m\u001b[1;34m\"class\"\u001b[0m\u001b[1;33m]\u001b[0m\u001b[1;33m)\u001b[0m\u001b[1;33m)\u001b[0m\u001b[1;33m\u001b[0m\u001b[1;33m\u001b[0m\u001b[0m\n\u001b[0;32m     52\u001b[0m         \u001b[0mdata\u001b[0m \u001b[1;33m=\u001b[0m \u001b[1;33m(\u001b[0m\u001b[0msoup\u001b[0m\u001b[1;33m.\u001b[0m\u001b[0mfindAll\u001b[0m\u001b[1;33m(\u001b[0m\u001b[0mclass_\u001b[0m\u001b[1;33m=\u001b[0m\u001b[0mselectors\u001b[0m\u001b[1;33m[\u001b[0m\u001b[1;34m\"https://techcrunch.com/\"\u001b[0m\u001b[1;33m]\u001b[0m\u001b[1;33m[\u001b[0m\u001b[0mi\u001b[0m\u001b[1;33m+\u001b[0m\u001b[1;36m1\u001b[0m\u001b[1;33m]\u001b[0m\u001b[1;33m[\u001b[0m\u001b[1;34m\"class\"\u001b[0m\u001b[1;33m]\u001b[0m\u001b[1;33m)\u001b[0m\u001b[1;33m)\u001b[0m\u001b[1;33m\u001b[0m\u001b[1;33m\u001b[0m\u001b[0m\n\u001b[1;32m---> 53\u001b[1;33m         \u001b[0mpage_f\u001b[0m\u001b[1;33m.\u001b[0m\u001b[0mextend\u001b[0m\u001b[1;33m(\u001b[0m\u001b[0mpage\u001b[0m\u001b[1;33m)\u001b[0m\u001b[1;33m\u001b[0m\u001b[1;33m\u001b[0m\u001b[0m\n\u001b[0m\u001b[0;32m     54\u001b[0m         \u001b[0mdata_f\u001b[0m\u001b[1;33m.\u001b[0m\u001b[0mextend\u001b[0m\u001b[1;33m(\u001b[0m\u001b[0mdata\u001b[0m\u001b[1;33m)\u001b[0m\u001b[1;33m\u001b[0m\u001b[1;33m\u001b[0m\u001b[0m\n\u001b[0;32m     55\u001b[0m         \u001b[0mprint\u001b[0m\u001b[1;33m(\u001b[0m\u001b[1;34m\"yo\"\u001b[0m\u001b[1;33m)\u001b[0m\u001b[1;33m\u001b[0m\u001b[1;33m\u001b[0m\u001b[0m\n",
      "\u001b[1;31mAttributeError\u001b[0m: 'NoneType' object has no attribute 'extend'"
     ]
    }
   ],
   "source": [
    "titles = [] \n",
    "descs = []\n",
    "\n",
    "content = driver.page_source \n",
    "soup = BeautifulSoup(content)\n",
    "\n",
    "#info from \n",
    "#first arg is name, finds all <a> tags \n",
    "# attrs is a dict that acts like keyword args \n",
    "# for a in soup.findAll('a',href=True, attrs = {'class':'post-block__title__link'}):\n",
    "#     #for a in soup.findAll(['a','p'],href=True, attrs = )\n",
    "#     title = a.find('div', attrs = {'class': 'post-block__title__link'})\n",
    "#     #descs = a.find('div', attrs = {'class': 'post-block__content'})\n",
    "#     titles.append(title.text)\n",
    "#     #descs.append(descs.text)\n",
    "\n",
    "selectors = {\n",
    "    \"https://techcrunch.com/\" : {\n",
    "        1 : {\"class\" : \"feature-island-main-block fi-main-block--unread\"},\n",
    "        2 : {\"class\" : \"fi-main-block__title\"},\n",
    "        5 : {\"class\" : \"river river--homepage\"},\n",
    "        6 : {\"class\" : \"post-block post-block--image post-block--unread\"},\n",
    "        7 : {\"class\" : \"river river--homepage\"},\n",
    "        8 : {\"class\" : \"post-block post-block--featured post-block--unread\"},\n",
    "        3 : {\"class\" : \"mini-view\"},\n",
    "        4 : {\"class\" : \"mini-view__item mini-item--unread\"}\n",
    "    },\n",
    "    \"https://gizmodo.com/\" : {\n",
    "        9 : {\"class\" : \"sc-1b65c8p-5 jOgcgy\"},\n",
    "        10 : {\"class\" : \"item branded-item branded-item--gizmodo rlhps0-0 kQEtSU\"},\n",
    "        11 : {\"class\" : \"sc-1b65c8p-5 jOgcgy\"},\n",
    "        12 : {\"class\" : \"item branded-item branded-item--earther rlhps0-0 kQEtSU\"},\n",
    "    }\n",
    "    \n",
    "}\n",
    "\n",
    "# page = soup.find(class_=\"feature-island-main-block fi-main-block--unread\")\n",
    "# data = soup.findAll(class_=\"fi-main-block__title\")\n",
    "# print(len(data))\n",
    "# for page in data:\n",
    "#     title = page.find(\"a\",{\"class\":\"post-block__title__link\"}).text\n",
    "#     titles.append(title)\n",
    "# print(selectors)\n",
    "\n",
    "page_f = [None]\n",
    "data_f = [None]\n",
    "\n",
    "for i in range(1,13,2):\n",
    "    print(i)\n",
    "    if (i!=1 and i<9):\n",
    "        page = (soup.find(class_= selectors[\"https://techcrunch.com/\"][i][\"class\"]))\n",
    "        data = (soup.findAll(class_=selectors[\"https://techcrunch.com/\"][i+1][\"class\"]))\n",
    "        page_f.extend(page)   \n",
    "        data_f.extend(data)  \n",
    "        print(\"yo\")\n",
    "        print(type(page_f))\n",
    "    elif (i==1):\n",
    "        page = (soup.find(class_= selectors[\"https://techcrunch.com/\"][i][\"class\"]))\n",
    "        data = (soup.findAll(class_=selectors[\"https://techcrunch.com/\"][i+1][\"class\"]))\n",
    "        page_f = page\n",
    "        data_f = data\n",
    "        print(\"wut\")\n",
    "        print(page)\n",
    "        print(data)\n",
    "        print(type(page_f))\n",
    "    else:\n",
    "        driver.get(\"https://gizmodo.com/\")\n",
    "        content = driver.page_source \n",
    "        soup = BeautifulSoup(content)\n",
    "        page = (soup.find(class_= selectors[\"https://gizmodo.com/\"][i][\"class\"]))\n",
    "        data = (soup.findAll(class_=selectors[\"https://gizmodo.com/\"][i+1][\"class\"]))\n",
    "        page_f.extend(page)   \n",
    "        data_f.extend(data) \n",
    "\n",
    "\n",
    "for page_f in data_f:\n",
    "#     title = page_f.find(\"a\",{\"class\":\"post-block__title__link\"}).text\n",
    "    title = page_f.find(\"a\", href=True).text\n",
    "    titles.append(title)\n",
    "        \n",
    "    \n",
    "print(titles)\n",
    "print(len(titles))\n",
    "#print(soup.get_text())"
   ]
  },
  {
   "cell_type": "code",
   "execution_count": 5,
   "metadata": {},
   "outputs": [
    {
     "ename": "AttributeError",
     "evalue": "'NoneType' object has no attribute 'find'",
     "output_type": "error",
     "traceback": [
      "\u001b[1;31m---------------------------------------------------------------------------\u001b[0m",
      "\u001b[1;31mAttributeError\u001b[0m                            Traceback (most recent call last)",
      "\u001b[1;32m<ipython-input-5-d7f87d7ae467>\u001b[0m in \u001b[0;36m<module>\u001b[1;34m\u001b[0m\n\u001b[0;32m     43\u001b[0m \u001b[1;31m#     title = page.find(\"a\", href=True).text\u001b[0m\u001b[1;33m\u001b[0m\u001b[1;33m\u001b[0m\u001b[1;33m\u001b[0m\u001b[0m\n\u001b[0;32m     44\u001b[0m     \u001b[0mtitles\u001b[0m\u001b[1;33m.\u001b[0m\u001b[0mappend\u001b[0m\u001b[1;33m(\u001b[0m\u001b[0mtitle\u001b[0m\u001b[1;33m)\u001b[0m\u001b[1;33m\u001b[0m\u001b[1;33m\u001b[0m\u001b[0m\n\u001b[1;32m---> 45\u001b[1;33m     \u001b[0mtitle\u001b[0m \u001b[1;33m=\u001b[0m \u001b[0mpage_f\u001b[0m\u001b[1;33m.\u001b[0m\u001b[0mfind\u001b[0m\u001b[1;33m(\u001b[0m\u001b[1;34m\"a\"\u001b[0m\u001b[1;33m,\u001b[0m \u001b[0mhref\u001b[0m\u001b[1;33m=\u001b[0m\u001b[1;32mTrue\u001b[0m\u001b[1;33m)\u001b[0m\u001b[1;33m.\u001b[0m\u001b[0mtext\u001b[0m\u001b[1;33m\u001b[0m\u001b[1;33m\u001b[0m\u001b[0m\n\u001b[0m\u001b[0;32m     46\u001b[0m     \u001b[0mtitles\u001b[0m\u001b[1;33m.\u001b[0m\u001b[0mappend\u001b[0m\u001b[1;33m(\u001b[0m\u001b[0mtitle\u001b[0m\u001b[1;33m)\u001b[0m\u001b[1;33m\u001b[0m\u001b[1;33m\u001b[0m\u001b[0m\n\u001b[0;32m     47\u001b[0m \u001b[1;33m\u001b[0m\u001b[0m\n",
      "\u001b[1;31mAttributeError\u001b[0m: 'NoneType' object has no attribute 'find'"
     ]
    }
   ],
   "source": [
    "# titles = [] \n",
    "# descs = []\n",
    "driver.get(\"https://gizmodo.com/\")\n",
    "content = driver.page_source \n",
    "soup = BeautifulSoup(content)\n",
    "# print(soup.prettify())\n",
    "# selectors = {\"hackernews\" : \"https://news.ycombinator.com/\" }: {\n",
    "#         10 : {\"class\" : \"title\"},\n",
    "#         9 : {\"class\" : \"athing\"}\n",
    "# }\n",
    "    \n",
    "# page = soup.find(class_=\"feature-island-main-block fi-main-block--unread\")\n",
    "# data = soup.findAll(class_=\"fi-main-block__title\")\n",
    "\n",
    "selectors = {\n",
    "    \"https://gizmodo.com/\" : {\n",
    "        1 : {\"class\" : \"sc-1b65c8p-5 jOgcgy\"},\n",
    "        2 : {\"class\" : \"item branded-item branded-item--gizmodo rlhps0-0 kQEtSU\"},\n",
    "        3 : {\"class\" : \"sc-1b65c8p-5 jOgcgy\"},\n",
    "        4 : {\"class\" : \"item branded-item branded-item--earther rlhps0-0 kQEtSU\"},\n",
    "#         7 : {\"class\" : \"river river--homepage\"},\n",
    "#         8 : {\"class\" : \"post-block post-block--featured post-block--unread\"},\n",
    "#         3 : {\"class\" : \"mini-view\"},\n",
    "#         4 : {\"class\" : \"mini-view__item mini-item--unread\"}\n",
    "    }\n",
    "}\n",
    "\n",
    "#item branded-item branded-item--earther rlhps0-0 kQEtSU\n",
    "# page = (soup.find(class_=\"sc-1b65c8p-5 jOgcgy\"))\n",
    "# data = (soup.findAll(class_=\"item branded-item branded-item--gizmodo rlhps0-0 kQEtSU\"))\n",
    "# print(data)\n",
    "\n",
    "for i in range (1,5,2):\n",
    "    page = (soup.find(class_=selectors[\"https://gizmodo.com/\"][i][\"class\"]))\n",
    "    data = (soup.findAll(class_=selectors[\"https://gizmodo.com/\"][i+1][\"class\"]))\n",
    "\n",
    "titles = []\n",
    "        \n",
    "for page in data:\n",
    "#     title = page.find(\"a\",{\"class\":\"sc-1vk1s7l-1 dPODWC\"})\n",
    "    title = page.find('h5').text\n",
    "    \n",
    "#     title = page.find(\"a\", href=True).text\n",
    "    titles.append(title)\n",
    "    title = page_f.find(\"a\", href=True).text\n",
    "    titles.append(title)\n",
    "    \n",
    "print(titles)"
   ]
  },
  {
   "cell_type": "code",
   "execution_count": null,
   "metadata": {},
   "outputs": [],
   "source": [
    "df = pd.DataFrame({'Title':titles}) \n",
    "with pd.option_context('display.max_rows', None, 'display.max_columns', None):  # more options can be specified also\n",
    "    print(df)"
   ]
  },
  {
   "cell_type": "code",
   "execution_count": null,
   "metadata": {},
   "outputs": [],
   "source": [
    "#df[\"relevant\"] = df.astype(str).sum(axis=1).str.contains(\"Libra\" or \"VC\")\n",
    "\n",
    "#feature to add for later: user enters specific keywords \n",
    "keywords = 'Facebook Google Microsoft Apple startup Linkedin'\n",
    "\n",
    "#case = False for case insensitivity \n",
    "df[\"relevant\"] = df.astype(str).sum(axis=1).str.contains(\"|\".join(keywords.split(\" \")),case = False)\n",
    "# print(df)"
   ]
  },
  {
   "cell_type": "code",
   "execution_count": null,
   "metadata": {},
   "outputs": [],
   "source": [
    "df = df[df.relevant != False] #dropping all false rows \n",
    "print(df)"
   ]
  },
  {
   "cell_type": "code",
   "execution_count": null,
   "metadata": {},
   "outputs": [],
   "source": []
  }
 ],
 "metadata": {
  "kernelspec": {
   "display_name": "Python 3",
   "language": "python",
   "name": "python3"
  },
  "language_info": {
   "codemirror_mode": {
    "name": "ipython",
    "version": 3
   },
   "file_extension": ".py",
   "mimetype": "text/x-python",
   "name": "python",
   "nbconvert_exporter": "python",
   "pygments_lexer": "ipython3",
   "version": "3.7.4"
  }
 },
 "nbformat": 4,
 "nbformat_minor": 2
}
