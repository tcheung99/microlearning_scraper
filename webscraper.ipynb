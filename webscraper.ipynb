{
 "cells": [
  {
   "cell_type": "code",
   "execution_count": 39,
   "metadata": {
    "scrolled": true
   },
   "outputs": [],
   "source": [
    "from selenium import webdriver\n",
    "from bs4 import BeautifulSoup\n",
    "import pandas as pd\n",
    "\n",
    "# pd.set_option('display.max_rows', 500)\n",
    "# pd.set_option('display.max_columns', 500)\n",
    "# pd.set_option('display.width', 1000)"
   ]
  },
  {
   "cell_type": "code",
   "execution_count": 40,
   "metadata": {},
   "outputs": [],
   "source": [
    "#C:\\Users\\trudi\\Downloads\\chromedriver_win32\n",
    "#driver = webdriver.Chrome(executable_path='C:/Users/trudi/Downloads/chromedriver_win32.exe')\n",
    "\n",
    "#https://www.reddit.com/r/learnpython/comments/3axumo/scraping_multiple_websites_with_beautifulsoup4/\n",
    "\n",
    "driver = webdriver.Chrome(executable_path=r'C:/Users/trudi/chromedriver')\n",
    "# url: https://techcrunch.com/\n",
    "driver.get(\"https://techcrunch.com/\")"
   ]
  },
  {
   "cell_type": "code",
   "execution_count": 41,
   "metadata": {},
   "outputs": [
    {
     "name": "stdout",
     "output_type": "stream",
     "text": [
      "18\n",
      "['VC Brad Feld on WeWork, SoftBank, and why venture firms may have to slow down their pacing in 2020', 'Pegging Libra to just the $ could soothe regulators, a16z says', 'Amid security concerns, the European Union puts 5G — and Huawei — under the microscope', 'Source: Nike has picked up Russell Wilson’s Tally/TraceMe in a rare acquisition', 'Apple creates its own TV studio, will produce WWII drama ‘Masters of Air’', 'Cryptocurrency’s bad day continues as the SEC blocks Telegram’s $1.7 billion planned token sale', 'Why it might have been time for new leadership at SAP', 'Alexa now speaks Spanish, including in multi-lingual mode', 'EBay, Stripe and Mastercard drop out of Facebook’s Libra Association', 'Electric moped startup Revel could expand to Texas next', 'Instacart shoppers are organizing a nationwide protest', 'Polte raises $12.5 million to track devices using LTE signal', 'Waymo and Renault to explore autonomous mobility route in Paris region', 'Google’s Pixel 4 launches next week; here’s what we expect', 'Uber to acquire grocery delivery startup Cornershop', 'Nomad’s new Base Station Pro offers a taste of what Apple’s AirPower had promised', 'Club Factory raises $100M to expand its lifestyle e-commerce platform in India', 'Twitter comes back to the Mac']\n"
     ]
    }
   ],
   "source": [
    "titles = [] \n",
    "descs = []\n",
    "\n",
    "content = driver.page_source \n",
    "soup = BeautifulSoup(content)\n",
    "\n",
    "#info from \n",
    "#first arg is name, finds all <a> tags \n",
    "# attrs is a dict that acts like keyword args \n",
    "# for a in soup.findAll('a',href=True, attrs = {'class':'post-block__title__link'}):\n",
    "#     #for a in soup.findAll(['a','p'],href=True, attrs = )\n",
    "#     title = a.find('div', attrs = {'class': 'post-block__title__link'})\n",
    "#     #descs = a.find('div', attrs = {'class': 'post-block__content'})\n",
    "#     titles.append(title.text)\n",
    "#     #descs.append(descs.text)\n",
    "page = soup.find(class_=\"river river--homepage\")\n",
    "data = soup.findAll(class_=\"post-block post-block--image post-block--unread\")\n",
    "print(len(data))\n",
    "\n",
    "for page in data:\n",
    "    title = page.find(\"a\",{\"class\":\"post-block__title__link\"}).text\n",
    "    titles.append(title)\n",
    "\n",
    "print(titles)\n"
   ]
  },
  {
   "cell_type": "code",
   "execution_count": 42,
   "metadata": {},
   "outputs": [
    {
     "name": "stdout",
     "output_type": "stream",
     "text": [
      "                                                Title\n",
      "0   VC Brad Feld on WeWork, SoftBank, and why vent...\n",
      "1   Pegging Libra to just the $ could soothe regul...\n",
      "2   Amid security concerns, the European Union put...\n",
      "3   Source: Nike has picked up Russell Wilson’s Ta...\n",
      "4   Apple creates its own TV studio, will produce ...\n",
      "5   Cryptocurrency’s bad day continues as the SEC ...\n",
      "6   Why it might have been time for new leadership...\n",
      "7   Alexa now speaks Spanish, including in multi-l...\n",
      "8   EBay, Stripe and Mastercard drop out of Facebo...\n",
      "9   Electric moped startup Revel could expand to T...\n",
      "10  Instacart shoppers are organizing a nationwide...\n",
      "11  Polte raises $12.5 million to track devices us...\n",
      "12  Waymo and Renault to explore autonomous mobili...\n",
      "13  Google’s Pixel 4 launches next week; here’s wh...\n",
      "14  Uber to acquire grocery delivery startup Corne...\n",
      "15  Nomad’s new Base Station Pro offers a taste of...\n",
      "16  Club Factory raises $100M to expand its lifest...\n",
      "17                      Twitter comes back to the Mac\n"
     ]
    }
   ],
   "source": [
    "df = pd.DataFrame({'Title':titles}) \n",
    "with pd.option_context('display.max_rows', None, 'display.max_columns', None):  # more options can be specified also\n",
    "    print(df)"
   ]
  },
  {
   "cell_type": "code",
   "execution_count": 43,
   "metadata": {},
   "outputs": [
    {
     "name": "stdout",
     "output_type": "stream",
     "text": [
      "                                                Title  relevant\n",
      "0   VC Brad Feld on WeWork, SoftBank, and why vent...     False\n",
      "1   Pegging Libra to just the $ could soothe regul...     False\n",
      "2   Amid security concerns, the European Union put...     False\n",
      "3   Source: Nike has picked up Russell Wilson’s Ta...     False\n",
      "4   Apple creates its own TV studio, will produce ...      True\n",
      "5   Cryptocurrency’s bad day continues as the SEC ...     False\n",
      "6   Why it might have been time for new leadership...     False\n",
      "7   Alexa now speaks Spanish, including in multi-l...     False\n",
      "8   EBay, Stripe and Mastercard drop out of Facebo...      True\n",
      "9   Electric moped startup Revel could expand to T...      True\n",
      "10  Instacart shoppers are organizing a nationwide...     False\n",
      "11  Polte raises $12.5 million to track devices us...     False\n",
      "12  Waymo and Renault to explore autonomous mobili...     False\n",
      "13  Google’s Pixel 4 launches next week; here’s wh...      True\n",
      "14  Uber to acquire grocery delivery startup Corne...      True\n",
      "15  Nomad’s new Base Station Pro offers a taste of...      True\n",
      "16  Club Factory raises $100M to expand its lifest...     False\n",
      "17                      Twitter comes back to the Mac     False\n"
     ]
    }
   ],
   "source": [
    "#df[\"relevant\"] = df.astype(str).sum(axis=1).str.contains(\"Libra\" or \"VC\")\n",
    "\n",
    "#feature to add for later: user enters specific keywords \n",
    "keywords = 'Facebook Google Microsoft Apple startup'\n",
    "\n",
    "#case = False for case insensitivity \n",
    "df[\"relevant\"] = df.astype(str).sum(axis=1).str.contains(\"|\".join(keywords.split(\" \")),case = False)\n",
    "print(df)"
   ]
  },
  {
   "cell_type": "code",
   "execution_count": 44,
   "metadata": {},
   "outputs": [
    {
     "name": "stdout",
     "output_type": "stream",
     "text": [
      "                                                Title  relevant\n",
      "4   Apple creates its own TV studio, will produce ...      True\n",
      "8   EBay, Stripe and Mastercard drop out of Facebo...      True\n",
      "9   Electric moped startup Revel could expand to T...      True\n",
      "13  Google’s Pixel 4 launches next week; here’s wh...      True\n",
      "14  Uber to acquire grocery delivery startup Corne...      True\n",
      "15  Nomad’s new Base Station Pro offers a taste of...      True\n"
     ]
    }
   ],
   "source": [
    "df = df[df.relevant != False] #dropping all false rows \n",
    "print(df)"
   ]
  },
  {
   "cell_type": "code",
   "execution_count": null,
   "metadata": {},
   "outputs": [],
   "source": []
  }
 ],
 "metadata": {
  "kernelspec": {
   "display_name": "Python 3",
   "language": "python",
   "name": "python3"
  },
  "language_info": {
   "codemirror_mode": {
    "name": "ipython",
    "version": 3
   },
   "file_extension": ".py",
   "mimetype": "text/x-python",
   "name": "python",
   "nbconvert_exporter": "python",
   "pygments_lexer": "ipython3",
   "version": "3.7.3"
  }
 },
 "nbformat": 4,
 "nbformat_minor": 2
}
