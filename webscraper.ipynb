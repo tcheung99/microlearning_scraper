{
 "cells": [
  {
   "cell_type": "code",
   "execution_count": 1,
   "metadata": {
    "scrolled": true
   },
   "outputs": [],
   "source": [
    "from selenium import webdriver\n",
    "from bs4 import BeautifulSoup\n",
    "import pandas as pd\n",
    "\n",
    "# pd.set_option('display.max_rows', 500)\n",
    "# pd.set_option('display.max_columns', 500)\n",
    "# pd.set_option('display.width', 1000)"
   ]
  },
  {
   "cell_type": "code",
   "execution_count": 5,
   "metadata": {},
   "outputs": [
    {
     "name": "stdout",
     "output_type": "stream",
     "text": [
      "3\n",
      "1\n",
      "['Google Maps adds more Waze-like features, including driving-incident reports']\n"
     ]
    }
   ],
   "source": [
    "#C:\\Users\\trudi\\Downloads\\chromedriver_win32\n",
    "#driver = webdriver.Chrome(executable_path='C:/Users/trudi/Downloads/chromedriver_win32.exe')\n",
    "\n",
    "#https://www.reddit.com/r/learnpython/comments/3axumo/scraping_multiple_websites_with_beautifulsoup4/\n",
    "\n",
    "content = driver.page_source \n",
    "soup = BeautifulSoup(content)\n",
    "\n",
    "driver = webdriver.Chrome(executable_path=r'C:/Users/trudi/chromedriver')\n",
    "# url: https://techcrunch.com/\n",
    "driver.get(\"https://techcrunch.com/\")\n",
    "\n",
    "page = soup.find(class_=\"feature-island-main-block fi-main-block--unread\")\n",
    "data = soup.findAll(class_=\"fi-main-block__title\")\n",
    "print(len(page))\n",
    "titles = [] \n",
    "\n",
    "print(len(data))\n",
    "for page in data:\n",
    "    title = page.find(\"a\",{\"class\":\"post-block__title__link\"}).text\n",
    "    titles.append(title)\n",
    "print(titles)"
   ]
  },
  {
   "cell_type": "code",
   "execution_count": 6,
   "metadata": {},
   "outputs": [
    {
     "name": "stdout",
     "output_type": "stream",
     "text": [
      "1\n",
      "wut\n",
      "<div class=\"feature-island-main-block fi-main-block--unread\"><h2 class=\"fi-main-block__title\"><a class=\"post-block__title__link\" href=\"/2019/10/17/google-maps-adds-more-waze-like-features-including-driving-incident-reports/\">Google Maps adds more Waze-like features, including driving-incident reports</a></h2><p class=\"fi-main-block__byline\"><span><a aria-label=\"Posts by Sarah Perez\" href=\"/author/sarah-perez/\">Sarah Perez</a></span></p><a class=\"post-block__title__link\" href=\"/2019/10/17/google-maps-adds-more-waze-like-features-including-driving-incident-reports/\"><figure class=\"post-block__media\"><img alt=\"\" sizes=\"(max-width: 1600px) 600px, 850px\" src=\"https://techcrunch.com/wp-content/uploads/2018/10/google-maps-ios-2018.jpg?w=850&amp;h=492&amp;crop=1\" srcset=\"https://techcrunch.com/wp-content/uploads/2018/10/google-maps-ios-2018.jpg?w=600&amp;h=347&amp;crop=1 600w, https://techcrunch.com/wp-content/uploads/2018/10/google-maps-ios-2018.jpg?w=850&amp;h=492&amp;crop=1 850w\"/></figure></a></div>\n",
      "[<h2 class=\"fi-main-block__title\"><a class=\"post-block__title__link\" href=\"/2019/10/17/google-maps-adds-more-waze-like-features-including-driving-incident-reports/\">Google Maps adds more Waze-like features, including driving-incident reports</a></h2>]\n",
      "<class 'bs4.element.Tag'>\n",
      "3\n",
      "yo\n",
      "<class 'bs4.element.Tag'>\n",
      "5\n",
      "yo\n",
      "<class 'bs4.element.Tag'>\n",
      "7\n",
      "yo\n",
      "<class 'bs4.element.Tag'>\n",
      "9\n",
      "11\n",
      "['Google Maps adds more Waze-like features, including driving-incident reports', 'How Unity built the world’s most popular game engine', 'Inside the shutdown of the ‘world’s largest’ child sex abuse website', 'Zuckerberg on Chinese censorship: Is that the internet we want?', 'New Nvidia Shield Android TV streaming device leaks via Amazon listing', 'Swarm gets green light from FCC for its 150-satellite constellation', 'Every state but Alaska has reported vape lung victims, now numbering 1,479 nationwide', 'Nintendo Switch hits another sales milestone', 'Getting press for your startup: the true role of communications', 'The battle to become the Mexican Nubank just started', 'Atlassian acquires Code Barrel, makers of Automation for Jira', 'Bosch’s new ‘ear’ for the Space Station’s Astrobee robot will let it ‘hear’ potential mechanical issues', 'How Unity built the world’s most popular game engine', 'Zubale, founded in Mexico City by two HBS grads, just raised $4.4 million to put locals to work over their phones', 'New Nvidia Shield Android TV streaming device leaks via Amazon listing', 'HBO Max scores all 21 Studio Ghibli films', 'Zuckerberg on Chinese censorship: Is that the internet we want?', 'Google Maps adds more Waze-like features, including driving-incident reports', 'Juul will stop selling mango, creme, fruit and cucumber pod flavors in the US', 'Luna Display now supports older Macs as a secondary screen', 'Tesla gets green light to start producing EVs in China', 'The Information will launch Ticker, a tech news app that costs $29 per year', '‘Cloud kitchens’ is an oxymoron', 'Catalan separatists have tooled up with a decentralized app for civil disobedience', 'Airbnb’s WeWork problem', '', '', '']\n",
      "28\n"
     ]
    }
   ],
   "source": [
    "titles = [] \n",
    "descs = []\n",
    "\n",
    "content = driver.page_source \n",
    "soup = BeautifulSoup(content)\n",
    "\n",
    "#info from \n",
    "#first arg is name, finds all <a> tags \n",
    "# attrs is a dict that acts like keyword args \n",
    "# for a in soup.findAll('a',href=True, attrs = {'class':'post-block__title__link'}):\n",
    "#     #for a in soup.findAll(['a','p'],href=True, attrs = )\n",
    "#     title = a.find('div', attrs = {'class': 'post-block__title__link'})\n",
    "#     #descs = a.find('div', attrs = {'class': 'post-block__content'})\n",
    "#     titles.append(title.text)\n",
    "#     #descs.append(descs.text)\n",
    "\n",
    "selectors = {\n",
    "    \"https://techcrunch.com/\" : {\n",
    "        1 : {\"class\" : \"feature-island-main-block fi-main-block--unread\"},\n",
    "        2 : {\"class\" : \"fi-main-block__title\"},\n",
    "        5 : {\"class\" : \"river river--homepage\"},\n",
    "        6 : {\"class\" : \"post-block post-block--image post-block--unread\"},\n",
    "        7 : {\"class\" : \"river river--homepage\"},\n",
    "        8 : {\"class\" : \"post-block post-block--featured post-block--unread\"},\n",
    "        3 : {\"class\" : \"mini-view\"},\n",
    "        4 : {\"class\" : \"mini-view__item mini-item--unread\"}\n",
    "    },\n",
    "    \"https://gizmodo.com/\" : {\n",
    "        9 : {\"class\" : \"sc-1b65c8p-5 jOgcgy\"},\n",
    "        10 : {\"class\" : \"item branded-item branded-item--gizmodo rlhps0-0 kQEtSU\"},\n",
    "        11 : {\"class\" : \"sc-1b65c8p-5 jOgcgy\"},\n",
    "        12 : {\"class\" : \"item branded-item branded-item--earther rlhps0-0 kQEtSU\"},\n",
    "    }\n",
    "    \n",
    "}\n",
    "\n",
    "# page = soup.find(class_=\"feature-island-main-block fi-main-block--unread\")\n",
    "# data = soup.findAll(class_=\"fi-main-block__title\")\n",
    "# print(len(data))\n",
    "# for page in data:\n",
    "#     title = page.find(\"a\",{\"class\":\"post-block__title__link\"}).text\n",
    "#     titles.append(title)\n",
    "# print(selectors)\n",
    "\n",
    "page_f = [None]\n",
    "data_f = [None]\n",
    "\n",
    "for i in range(1,13,2):\n",
    "    print(i)\n",
    "    if (i!=1 and i<9):\n",
    "        page = (soup.find(class_= selectors[\"https://techcrunch.com/\"][i][\"class\"]))\n",
    "        data = (soup.findAll(class_=selectors[\"https://techcrunch.com/\"][i+1][\"class\"]))\n",
    "        page_f.extend(page)   \n",
    "        data_f.extend(data)  \n",
    "        print(\"yo\")\n",
    "        print(type(page_f))\n",
    "    elif (i==1):\n",
    "        page = (soup.find(class_= selectors[\"https://techcrunch.com/\"][i][\"class\"]))\n",
    "        data = (soup.findAll(class_=selectors[\"https://techcrunch.com/\"][i+1][\"class\"]))\n",
    "        page_f = page\n",
    "        data_f = data\n",
    "        print(\"wut\")\n",
    "        print(page)\n",
    "        print(data)\n",
    "        print(type(page_f))\n",
    "    else:\n",
    "        driver.get(\"https://gizmodo.com/\")\n",
    "        content = driver.page_source \n",
    "        soup = BeautifulSoup(content)\n",
    "        page = (soup.find(class_= selectors[\"https://gizmodo.com/\"][i][\"class\"]))\n",
    "        data = (soup.findAll(class_=selectors[\"https://gizmodo.com/\"][i+1][\"class\"]))\n",
    "        page_f.extend(page)   \n",
    "        data_f.extend(data) \n",
    "\n",
    "\n",
    "for page_f in data_f:\n",
    "#     title = page_f.find(\"a\",{\"class\":\"post-block__title__link\"}).text\n",
    "    title = page_f.find(\"a\", href=True).text\n",
    "    titles.append(title)\n",
    "        \n",
    "    \n",
    "print(titles)\n",
    "print(len(titles))\n",
    "#print(soup.get_text())"
   ]
  },
  {
   "cell_type": "code",
   "execution_count": 10,
   "metadata": {},
   "outputs": [
    {
     "ename": "WebDriverException",
     "evalue": "Message: chrome not reachable\n  (Session info: chrome=77.0.3865.120)\n",
     "output_type": "error",
     "traceback": [
      "\u001b[1;31m---------------------------------------------------------------------------\u001b[0m",
      "\u001b[1;31mWebDriverException\u001b[0m                        Traceback (most recent call last)",
      "\u001b[1;32m<ipython-input-10-0631e21db63a>\u001b[0m in \u001b[0;36m<module>\u001b[1;34m\u001b[0m\n\u001b[0;32m      1\u001b[0m \u001b[0mtitles\u001b[0m \u001b[1;33m=\u001b[0m \u001b[1;33m[\u001b[0m\u001b[1;33m]\u001b[0m\u001b[1;33m\u001b[0m\u001b[1;33m\u001b[0m\u001b[0m\n\u001b[0;32m      2\u001b[0m \u001b[0mdescs\u001b[0m \u001b[1;33m=\u001b[0m \u001b[1;33m[\u001b[0m\u001b[1;33m]\u001b[0m\u001b[1;33m\u001b[0m\u001b[1;33m\u001b[0m\u001b[0m\n\u001b[1;32m----> 3\u001b[1;33m \u001b[0mdriver\u001b[0m\u001b[1;33m.\u001b[0m\u001b[0mget\u001b[0m\u001b[1;33m(\u001b[0m\u001b[1;34m\"https://gizmodo.com/\"\u001b[0m\u001b[1;33m)\u001b[0m\u001b[1;33m\u001b[0m\u001b[1;33m\u001b[0m\u001b[0m\n\u001b[0m\u001b[0;32m      4\u001b[0m \u001b[0mcontent\u001b[0m \u001b[1;33m=\u001b[0m \u001b[0mdriver\u001b[0m\u001b[1;33m.\u001b[0m\u001b[0mpage_source\u001b[0m\u001b[1;33m\u001b[0m\u001b[1;33m\u001b[0m\u001b[0m\n\u001b[0;32m      5\u001b[0m \u001b[0msoup\u001b[0m \u001b[1;33m=\u001b[0m \u001b[0mBeautifulSoup\u001b[0m\u001b[1;33m(\u001b[0m\u001b[0mcontent\u001b[0m\u001b[1;33m)\u001b[0m\u001b[1;33m\u001b[0m\u001b[1;33m\u001b[0m\u001b[0m\n",
      "\u001b[1;32m~\\AppData\\Roaming\\Python\\Python37\\site-packages\\selenium\\webdriver\\remote\\webdriver.py\u001b[0m in \u001b[0;36mget\u001b[1;34m(self, url)\u001b[0m\n\u001b[0;32m    331\u001b[0m         \u001b[0mLoads\u001b[0m \u001b[0ma\u001b[0m \u001b[0mweb\u001b[0m \u001b[0mpage\u001b[0m \u001b[1;32min\u001b[0m \u001b[0mthe\u001b[0m \u001b[0mcurrent\u001b[0m \u001b[0mbrowser\u001b[0m \u001b[0msession\u001b[0m\u001b[1;33m.\u001b[0m\u001b[1;33m\u001b[0m\u001b[1;33m\u001b[0m\u001b[0m\n\u001b[0;32m    332\u001b[0m         \"\"\"\n\u001b[1;32m--> 333\u001b[1;33m         \u001b[0mself\u001b[0m\u001b[1;33m.\u001b[0m\u001b[0mexecute\u001b[0m\u001b[1;33m(\u001b[0m\u001b[0mCommand\u001b[0m\u001b[1;33m.\u001b[0m\u001b[0mGET\u001b[0m\u001b[1;33m,\u001b[0m \u001b[1;33m{\u001b[0m\u001b[1;34m'url'\u001b[0m\u001b[1;33m:\u001b[0m \u001b[0murl\u001b[0m\u001b[1;33m}\u001b[0m\u001b[1;33m)\u001b[0m\u001b[1;33m\u001b[0m\u001b[1;33m\u001b[0m\u001b[0m\n\u001b[0m\u001b[0;32m    334\u001b[0m \u001b[1;33m\u001b[0m\u001b[0m\n\u001b[0;32m    335\u001b[0m     \u001b[1;33m@\u001b[0m\u001b[0mproperty\u001b[0m\u001b[1;33m\u001b[0m\u001b[1;33m\u001b[0m\u001b[0m\n",
      "\u001b[1;32m~\\AppData\\Roaming\\Python\\Python37\\site-packages\\selenium\\webdriver\\remote\\webdriver.py\u001b[0m in \u001b[0;36mexecute\u001b[1;34m(self, driver_command, params)\u001b[0m\n\u001b[0;32m    319\u001b[0m         \u001b[0mresponse\u001b[0m \u001b[1;33m=\u001b[0m \u001b[0mself\u001b[0m\u001b[1;33m.\u001b[0m\u001b[0mcommand_executor\u001b[0m\u001b[1;33m.\u001b[0m\u001b[0mexecute\u001b[0m\u001b[1;33m(\u001b[0m\u001b[0mdriver_command\u001b[0m\u001b[1;33m,\u001b[0m \u001b[0mparams\u001b[0m\u001b[1;33m)\u001b[0m\u001b[1;33m\u001b[0m\u001b[1;33m\u001b[0m\u001b[0m\n\u001b[0;32m    320\u001b[0m         \u001b[1;32mif\u001b[0m \u001b[0mresponse\u001b[0m\u001b[1;33m:\u001b[0m\u001b[1;33m\u001b[0m\u001b[1;33m\u001b[0m\u001b[0m\n\u001b[1;32m--> 321\u001b[1;33m             \u001b[0mself\u001b[0m\u001b[1;33m.\u001b[0m\u001b[0merror_handler\u001b[0m\u001b[1;33m.\u001b[0m\u001b[0mcheck_response\u001b[0m\u001b[1;33m(\u001b[0m\u001b[0mresponse\u001b[0m\u001b[1;33m)\u001b[0m\u001b[1;33m\u001b[0m\u001b[1;33m\u001b[0m\u001b[0m\n\u001b[0m\u001b[0;32m    322\u001b[0m             response['value'] = self._unwrap_value(\n\u001b[0;32m    323\u001b[0m                 response.get('value', None))\n",
      "\u001b[1;32m~\\AppData\\Roaming\\Python\\Python37\\site-packages\\selenium\\webdriver\\remote\\errorhandler.py\u001b[0m in \u001b[0;36mcheck_response\u001b[1;34m(self, response)\u001b[0m\n\u001b[0;32m    240\u001b[0m                 \u001b[0malert_text\u001b[0m \u001b[1;33m=\u001b[0m \u001b[0mvalue\u001b[0m\u001b[1;33m[\u001b[0m\u001b[1;34m'alert'\u001b[0m\u001b[1;33m]\u001b[0m\u001b[1;33m.\u001b[0m\u001b[0mget\u001b[0m\u001b[1;33m(\u001b[0m\u001b[1;34m'text'\u001b[0m\u001b[1;33m)\u001b[0m\u001b[1;33m\u001b[0m\u001b[1;33m\u001b[0m\u001b[0m\n\u001b[0;32m    241\u001b[0m             \u001b[1;32mraise\u001b[0m \u001b[0mexception_class\u001b[0m\u001b[1;33m(\u001b[0m\u001b[0mmessage\u001b[0m\u001b[1;33m,\u001b[0m \u001b[0mscreen\u001b[0m\u001b[1;33m,\u001b[0m \u001b[0mstacktrace\u001b[0m\u001b[1;33m,\u001b[0m \u001b[0malert_text\u001b[0m\u001b[1;33m)\u001b[0m\u001b[1;33m\u001b[0m\u001b[1;33m\u001b[0m\u001b[0m\n\u001b[1;32m--> 242\u001b[1;33m         \u001b[1;32mraise\u001b[0m \u001b[0mexception_class\u001b[0m\u001b[1;33m(\u001b[0m\u001b[0mmessage\u001b[0m\u001b[1;33m,\u001b[0m \u001b[0mscreen\u001b[0m\u001b[1;33m,\u001b[0m \u001b[0mstacktrace\u001b[0m\u001b[1;33m)\u001b[0m\u001b[1;33m\u001b[0m\u001b[1;33m\u001b[0m\u001b[0m\n\u001b[0m\u001b[0;32m    243\u001b[0m \u001b[1;33m\u001b[0m\u001b[0m\n\u001b[0;32m    244\u001b[0m     \u001b[1;32mdef\u001b[0m \u001b[0m_value_or_default\u001b[0m\u001b[1;33m(\u001b[0m\u001b[0mself\u001b[0m\u001b[1;33m,\u001b[0m \u001b[0mobj\u001b[0m\u001b[1;33m,\u001b[0m \u001b[0mkey\u001b[0m\u001b[1;33m,\u001b[0m \u001b[0mdefault\u001b[0m\u001b[1;33m)\u001b[0m\u001b[1;33m:\u001b[0m\u001b[1;33m\u001b[0m\u001b[1;33m\u001b[0m\u001b[0m\n",
      "\u001b[1;31mWebDriverException\u001b[0m: Message: chrome not reachable\n  (Session info: chrome=77.0.3865.120)\n"
     ]
    }
   ],
   "source": [
    "titles = [] \n",
    "descs = []\n",
    "driver.get(\"https://gizmodo.com/\")\n",
    "content = driver.page_source \n",
    "soup = BeautifulSoup(content)\n",
    "# print(soup.prettify())\n",
    "# selectors = {\"hackernews\" : \"https://news.ycombinator.com/\" }: {\n",
    "#         10 : {\"class\" : \"title\"},\n",
    "#         9 : {\"class\" : \"athing\"}\n",
    "# }\n",
    "    \n",
    "# page = soup.find(class_=\"feature-island-main-block fi-main-block--unread\")\n",
    "# data = soup.findAll(class_=\"fi-main-block__title\")\n",
    "\n",
    "selectors = {\n",
    "    \"https://gizmodo.com/\" : {\n",
    "        1 : {\"class\" : \"sc-1b65c8p-5 jOgcgy\"},\n",
    "        2 : {\"class\" : \"item branded-item branded-item--gizmodo rlhps0-0 kQEtSU\"},\n",
    "        3 : {\"class\" : \"sc-1b65c8p-5 jOgcgy\"},\n",
    "        4 : {\"class\" : \"item branded-item branded-item--earther rlhps0-0 kQEtSU\"},\n",
    "#         7 : {\"class\" : \"river river--homepage\"},\n",
    "#         8 : {\"class\" : \"post-block post-block--featured post-block--unread\"},\n",
    "#         3 : {\"class\" : \"mini-view\"},\n",
    "#         4 : {\"class\" : \"mini-view__item mini-item--unread\"}\n",
    "    }\n",
    "}\n",
    "\n",
    "#item branded-item branded-item--earther rlhps0-0 kQEtSU\n",
    "# page = (soup.find(class_=\"sc-1b65c8p-5 jOgcgy\"))\n",
    "# data = (soup.findAll(class_=\"item branded-item branded-item--gizmodo rlhps0-0 kQEtSU\"))\n",
    "# print(data)\n",
    "\n",
    "for i in range (1,5,2):\n",
    "    page = (soup.find(class_=selectors[\"https://gizmodo.com/\"][i][\"class\"]))\n",
    "    data = (soup.findAll(class_=selectors[\"https://gizmodo.com/\"][i+1][\"class\"]))\n",
    "\n",
    "titles = []\n",
    "        \n",
    "for page in data:\n",
    "#     title = page.find(\"a\",{\"class\":\"sc-1vk1s7l-1 dPODWC\"})\n",
    "    title = page.find('h5').text\n",
    "    \n",
    "#     title = page.find(\"a\", href=True).text\n",
    "    titles.append(title)\n",
    "#     title = page_f.find(\"a\", href=True).text\n",
    "#     titles.append(title)\n",
    "    \n",
    "print(titles)"
   ]
  },
  {
   "cell_type": "code",
   "execution_count": null,
   "metadata": {},
   "outputs": [],
   "source": [
    "df = pd.DataFrame({'Title':titles}) \n",
    "with pd.option_context('display.max_rows', None, 'display.max_columns', None):  # more options can be specified also\n",
    "    print(df)"
   ]
  },
  {
   "cell_type": "code",
   "execution_count": null,
   "metadata": {},
   "outputs": [],
   "source": [
    "#df[\"relevant\"] = df.astype(str).sum(axis=1).str.contains(\"Libra\" or \"VC\")\n",
    "\n",
    "#feature to add for later: user enters specific keywords \n",
    "keywords = 'Facebook Google Microsoft Apple startup Linkedin'\n",
    "\n",
    "#case = False for case insensitivity \n",
    "df[\"relevant\"] = df.astype(str).sum(axis=1).str.contains(\"|\".join(keywords.split(\" \")),case = False)\n",
    "# print(df)"
   ]
  },
  {
   "cell_type": "code",
   "execution_count": null,
   "metadata": {},
   "outputs": [],
   "source": [
    "df = df[df.relevant != False] #dropping all false rows \n",
    "print(df)"
   ]
  },
  {
   "cell_type": "code",
   "execution_count": null,
   "metadata": {},
   "outputs": [],
   "source": []
  }
 ],
 "metadata": {
  "kernelspec": {
   "display_name": "Python 3",
   "language": "python",
   "name": "python3"
  },
  "language_info": {
   "codemirror_mode": {
    "name": "ipython",
    "version": 3
   },
   "file_extension": ".py",
   "mimetype": "text/x-python",
   "name": "python",
   "nbconvert_exporter": "python",
   "pygments_lexer": "ipython3",
   "version": "3.7.4"
  }
 },
 "nbformat": 4,
 "nbformat_minor": 2
}
