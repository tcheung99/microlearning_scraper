{
 "cells": [
  {
   "cell_type": "code",
   "execution_count": 15,
   "metadata": {
    "scrolled": true
   },
   "outputs": [],
   "source": [
    "from selenium import webdriver\n",
    "from bs4 import BeautifulSoup\n",
    "import pandas as pd\n",
    "import re"
   ]
  },
  {
   "cell_type": "code",
   "execution_count": 16,
   "metadata": {},
   "outputs": [],
   "source": [
    "driver = webdriver.Chrome(executable_path=r'C:/Users/trudi/chromedriver')\n",
    "driver.get(\"https://techcrunch.com/\")"
   ]
  },
  {
   "cell_type": "code",
   "execution_count": 17,
   "metadata": {},
   "outputs": [
    {
     "name": "stdout",
     "output_type": "stream",
     "text": [
      "['Lowlights from Zuckerberg’s Libra testimony in Congress', 'Tesla surprises with a profit in the third quarter', 'Learn how to raise your first euros at TechCrunch Disrupt Berlin', 'A scalable plan for onboarding your first 500 employees', 'Vendr, already profitable, raises $2M to replace your enterprise sales team', 'Elon Musk predicts Tesla energy could be ‘bigger’ than its EV business', 'Elon Musk: Model S, Model X production continues for ‘sentimental reasons’', 'Tesla is launching version three of its solar roof tile this week', 'Revolut launches publicly in Singapore, signs deal with Mastercard', 'Elon Musk says Tesla “early access” full self-driving could arrive by end of year', 'Bill McDermott aims to grow ServiceNow like he did SAP', 'As Tesla begins ‘trial’ Model 3 production in China, it closes in on a European factory', 'Google debuts new digital well-being ‘experiments’ like a notification mailbox, unlock clock & even a paper phone', 'Bitcoin and cryptocurrencies are having a very bad day', '6 considerations for managing your cap table', 'Koan, launched by a co-founder of Jive Software, has raised $3 million in seed funding', 'Tesla surprises with a profit in the third quarter', 'Truebill raises $15M to build a comprehensive platform for personal finance', 'Legged lunar rover startup Spacebit taps Latin American partners for Moon mission', 'Vendr, already profitable, raises $2M to replace your enterprise sales team', 'A scalable plan for onboarding your first 500 employees', 'Substance abuse affects about 15% of American employees, Path wants to ensure they get help', 'Just 6% of US adults on Twitter account for 73% of political tweets… and they disapprove of Trump', 'Small rocket launch startup Firefly teams up with Aerojet Rocketdyne', 'Founder-investor Natalie Massenet on how new brands win', '', '', '', '', \"First Look at 'Sycamore,' Google's Quantum Computer\", \"Here Are 2019's Most Awful Halloween Costumes\", 'How Those Memes You Just Posted Could Soon Cost You $30,000']\n"
     ]
    }
   ],
   "source": [
    "titles = [] \n",
    "descs = []\n",
    "\n",
    "content = driver.page_source \n",
    "soup = BeautifulSoup(content)\n",
    "\n",
    "selectors = {\n",
    "    \"https://techcrunch.com/\" : {\n",
    "        1 : {\"class\" : \"feature-island-main-block fi-main-block--unread\"},\n",
    "        2 : {\"class\" : \"fi-main-block__title\"},\n",
    "        5 : {\"class\" : \"river river--homepage\"},\n",
    "        6 : {\"class\" : \"post-block post-block--image post-block--unread\"},\n",
    "        7 : {\"class\" : \"river river--homepage\"},\n",
    "        8 : {\"class\" : \"post-block post-block--featured post-block--unread\"},\n",
    "        3 : {\"class\" : \"mini-view\"},\n",
    "        4 : {\"class\" : \"mini-view__item mini-item--unread\"}\n",
    "    },\n",
    "    \"https://gizmodo.com/\" : {\n",
    "        9 : {\"class\" : \"sc-1b65c8p-5 jOgcgy\"},\n",
    "        10 : {\"class\" : \"item branded-item branded-item--gizmodo rlhps0-0 kQEtSU\"},\n",
    "        11 : {\"class\" : \"sc-1b65c8p-5 jOgcgy\"},\n",
    "        12 : {\"class\" : \"item branded-item branded-item--earther rlhps0-0 kQEtSU\"},\n",
    "        13 : {\"class\" : \"content-meta__headline__wrapper sc-1n74gvm-0 eYcrcn\"},\n",
    "        14 : {\"class\" : \"content-meta__headline medium-headline\"}\n",
    "    }\n",
    "}\n",
    "\n",
    "page_f = [None]\n",
    "data_f = [None]\n",
    "\n",
    "for i in range(1,15,2):\n",
    "#     print(i)\n",
    "    if (i!=1 and i<9):\n",
    "        page = (soup.find(class_= selectors[\"https://techcrunch.com/\"][i][\"class\"]))\n",
    "        data = (soup.findAll(class_=selectors[\"https://techcrunch.com/\"][i+1][\"class\"]))\n",
    "        page_f.extend(page)   \n",
    "        data_f.extend(data)  \n",
    "        url = soup.find('a', attrs={'href': re.compile(\"^http://\")})\n",
    "\n",
    "    elif (i==1):\n",
    "        page = (soup.find(class_= selectors[\"https://techcrunch.com/\"][i][\"class\"]))\n",
    "        data = (soup.findAll(class_=selectors[\"https://techcrunch.com/\"][i+1][\"class\"]))\n",
    "        page_f = page\n",
    "        data_f = data\n",
    "\n",
    "    else:\n",
    "        driver.get(\"https://gizmodo.com/\")\n",
    "        content = driver.page_source \n",
    "        soup = BeautifulSoup(content)\n",
    "        page = (soup.find(class_= selectors[\"https://gizmodo.com/\"][i][\"class\"]))\n",
    "        data = (soup.findAll(class_=selectors[\"https://gizmodo.com/\"][i+1][\"class\"]))\n",
    "\n",
    "        page_f.extend(page)   \n",
    "        data_f.extend(data) \n",
    "\n",
    "for page_f in data_f:\n",
    "    title = page_f.find(\"a\", href=True).text\n",
    "    titles.append(title)\n",
    "    \n",
    "print(titles)\n"
   ]
  },
  {
   "cell_type": "code",
   "execution_count": 18,
   "metadata": {},
   "outputs": [
    {
     "name": "stdout",
     "output_type": "stream",
     "text": [
      "                                                Title\n",
      "0   Lowlights from Zuckerberg’s Libra testimony in...\n",
      "1   Tesla surprises with a profit in the third qua...\n",
      "2   Learn how to raise your first euros at TechCru...\n",
      "3   A scalable plan for onboarding your first 500 ...\n",
      "4   Vendr, already profitable, raises $2M to repla...\n",
      "5   Elon Musk predicts Tesla energy could be ‘bigg...\n",
      "6   Elon Musk: Model S, Model X production continu...\n",
      "7   Tesla is launching version three of its solar ...\n",
      "8   Revolut launches publicly in Singapore, signs ...\n",
      "9   Elon Musk says Tesla “early access” full self-...\n",
      "10  Bill McDermott aims to grow ServiceNow like he...\n",
      "11  As Tesla begins ‘trial’ Model 3 production in ...\n",
      "12  Google debuts new digital well-being ‘experime...\n",
      "13  Bitcoin and cryptocurrencies are having a very...\n",
      "14       6 considerations for managing your cap table\n",
      "15  Koan, launched by a co-founder of Jive Softwar...\n",
      "16  Tesla surprises with a profit in the third qua...\n",
      "17  Truebill raises $15M to build a comprehensive ...\n",
      "18  Legged lunar rover startup Spacebit taps Latin...\n",
      "19  Vendr, already profitable, raises $2M to repla...\n",
      "20  A scalable plan for onboarding your first 500 ...\n",
      "21  Substance abuse affects about 15% of American ...\n",
      "22  Just 6% of US adults on Twitter account for 73...\n",
      "23  Small rocket launch startup Firefly teams up w...\n",
      "24  Founder-investor Natalie Massenet on how new b...\n",
      "25                                                   \n",
      "26                                                   \n",
      "27                                                   \n",
      "28                                                   \n",
      "29  First Look at 'Sycamore,' Google's Quantum Com...\n",
      "30      Here Are 2019's Most Awful Halloween Costumes\n",
      "31  How Those Memes You Just Posted Could Soon Cos...\n"
     ]
    }
   ],
   "source": [
    "df = pd.DataFrame({'Title':titles}) \n",
    "with pd.option_context('display.max_rows', None, 'display.max_columns', None):  # more options can be specified also\n",
    "    print(df)"
   ]
  },
  {
   "cell_type": "code",
   "execution_count": 19,
   "metadata": {},
   "outputs": [],
   "source": [
    "#df[\"relevant\"] = df.astype(str).sum(axis=1).str.contains(\"Libra\" or \"VC\")\n",
    "\n",
    "#feature to add for later: user enters specific keywords \n",
    "keywords = 'Facebook Google Microsoft Apple startup Linkedin'\n",
    "\n",
    "#case = False for case insensitivity \n",
    "df[\"relevant\"] = df.astype(str).sum(axis=1).str.contains(\"|\".join(keywords.split(\" \")),case = False)\n",
    "# print(df)"
   ]
  },
  {
   "cell_type": "code",
   "execution_count": 20,
   "metadata": {},
   "outputs": [
    {
     "name": "stdout",
     "output_type": "stream",
     "text": [
      "                                                Title  relevant\n",
      "12  Google debuts new digital well-being ‘experime...      True\n",
      "18  Legged lunar rover startup Spacebit taps Latin...      True\n",
      "23  Small rocket launch startup Firefly teams up w...      True\n",
      "29  First Look at 'Sycamore,' Google's Quantum Com...      True\n"
     ]
    }
   ],
   "source": [
    "df = df[df.relevant != False] #dropping all false rows \n",
    "print(df)"
   ]
  },
  {
   "cell_type": "code",
   "execution_count": null,
   "metadata": {},
   "outputs": [],
   "source": []
  }
 ],
 "metadata": {
  "kernelspec": {
   "display_name": "Python 3",
   "language": "python",
   "name": "python3"
  },
  "language_info": {
   "codemirror_mode": {
    "name": "ipython",
    "version": 3
   },
   "file_extension": ".py",
   "mimetype": "text/x-python",
   "name": "python",
   "nbconvert_exporter": "python",
   "pygments_lexer": "ipython3",
   "version": "3.7.4"
  }
 },
 "nbformat": 4,
 "nbformat_minor": 2
}
